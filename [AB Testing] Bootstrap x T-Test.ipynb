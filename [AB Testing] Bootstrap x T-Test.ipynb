{
 "cells": [
  {
   "cell_type": "code",
   "execution_count": 1,
   "id": "1c93ba70",
   "metadata": {
    "execution": {
     "iopub.execute_input": "2023-05-23T15:21:02.309365Z",
     "iopub.status.busy": "2023-05-23T15:21:02.308584Z",
     "iopub.status.idle": "2023-05-23T15:21:02.322418Z",
     "shell.execute_reply": "2023-05-23T15:21:02.321538Z"
    },
    "papermill": {
     "duration": 0.025729,
     "end_time": "2023-05-23T15:21:02.324585",
     "exception": false,
     "start_time": "2023-05-23T15:21:02.298856",
     "status": "completed"
    },
    "tags": []
   },
   "outputs": [],
   "source": [
    "import pandas as pd\n",
    "import numpy as np\n",
    "import matplotlib.pyplot as plt"
   ]
  },
  {
   "cell_type": "code",
   "execution_count": 2,
   "id": "95bbc930",
   "metadata": {
    "execution": {
     "iopub.execute_input": "2023-05-23T15:21:02.341712Z",
     "iopub.status.busy": "2023-05-23T15:21:02.341015Z",
     "iopub.status.idle": "2023-05-23T15:21:02.493836Z",
     "shell.execute_reply": "2023-05-23T15:21:02.493002Z"
    },
    "papermill": {
     "duration": 0.164006,
     "end_time": "2023-05-23T15:21:02.496197",
     "exception": false,
     "start_time": "2023-05-23T15:21:02.332191",
     "status": "completed"
    },
    "tags": []
   },
   "outputs": [
    {
     "data": {
      "text/html": [
       "<div>\n",
       "<style scoped>\n",
       "    .dataframe tbody tr th:only-of-type {\n",
       "        vertical-align: middle;\n",
       "    }\n",
       "\n",
       "    .dataframe tbody tr th {\n",
       "        vertical-align: top;\n",
       "    }\n",
       "\n",
       "    .dataframe thead th {\n",
       "        text-align: right;\n",
       "    }\n",
       "</style>\n",
       "<table border=\"1\" class=\"dataframe\">\n",
       "  <thead>\n",
       "    <tr style=\"text-align: right;\">\n",
       "      <th></th>\n",
       "      <th>userid</th>\n",
       "      <th>version</th>\n",
       "      <th>sum_gamerounds</th>\n",
       "      <th>retention_1</th>\n",
       "      <th>retention_7</th>\n",
       "    </tr>\n",
       "  </thead>\n",
       "  <tbody>\n",
       "    <tr>\n",
       "      <th>0</th>\n",
       "      <td>116</td>\n",
       "      <td>gate_30</td>\n",
       "      <td>3</td>\n",
       "      <td>False</td>\n",
       "      <td>False</td>\n",
       "    </tr>\n",
       "    <tr>\n",
       "      <th>1</th>\n",
       "      <td>337</td>\n",
       "      <td>gate_30</td>\n",
       "      <td>38</td>\n",
       "      <td>True</td>\n",
       "      <td>False</td>\n",
       "    </tr>\n",
       "    <tr>\n",
       "      <th>2</th>\n",
       "      <td>377</td>\n",
       "      <td>gate_40</td>\n",
       "      <td>165</td>\n",
       "      <td>True</td>\n",
       "      <td>False</td>\n",
       "    </tr>\n",
       "    <tr>\n",
       "      <th>3</th>\n",
       "      <td>483</td>\n",
       "      <td>gate_40</td>\n",
       "      <td>1</td>\n",
       "      <td>False</td>\n",
       "      <td>False</td>\n",
       "    </tr>\n",
       "    <tr>\n",
       "      <th>4</th>\n",
       "      <td>488</td>\n",
       "      <td>gate_40</td>\n",
       "      <td>179</td>\n",
       "      <td>True</td>\n",
       "      <td>True</td>\n",
       "    </tr>\n",
       "  </tbody>\n",
       "</table>\n",
       "</div>"
      ],
      "text/plain": [
       "   userid  version  sum_gamerounds  retention_1  retention_7\n",
       "0     116  gate_30               3        False        False\n",
       "1     337  gate_30              38         True        False\n",
       "2     377  gate_40             165         True        False\n",
       "3     483  gate_40               1        False        False\n",
       "4     488  gate_40             179         True         True"
      ]
     },
     "execution_count": 2,
     "metadata": {},
     "output_type": "execute_result"
    }
   ],
   "source": [
    "df = pd.read_csv(\"/kaggle/input/mobile-games-ab-testing/cookie_cats.csv\")\n",
    "df.head()"
   ]
  },
  {
   "cell_type": "markdown",
   "id": "3093b2bc",
   "metadata": {
    "papermill": {
     "duration": 0.007288,
     "end_time": "2023-05-23T15:21:02.511115",
     "exception": false,
     "start_time": "2023-05-23T15:21:02.503827",
     "status": "completed"
    },
    "tags": []
   },
   "source": [
    "# Business Question \n",
    "\n",
    "## Contex : \n",
    "\n",
    "Cookie Cats is a hugely popular mobile puzzle game developed by Tactile Entertainment. It's a classic \"connect three\"-style puzzle game where the player must connect tiles of the same color to clear the board and win the level\n",
    "\n",
    "As players progress through the levels of the game, they will occasionally encounter gates that force them to wait a non-trivial amount of time or make an in-app purchase to progress. In addition **to driving in-app purchases**, these gates serve the important purpose of giving players an enforced break from playing the game, hopefully resulting in that the player's enjoyment of the game being increased and prolonged.\n",
    "\n",
    "But **where should the gates be placed?** **Initially** the first gate was placed at **level 30**, but in this notebook we're going to analyze an AB-test where we **moved** the first gate in Cookie Cats **from level 30(Control) to level 40 (Treatment)**. In particular, we will look at the impact on player retention. \n",
    "\n",
    "\n",
    "## Business Question : \n",
    "1. ***Retention Rate  (Main Metrics) ***\n",
    "\n",
    "Usually, when we have Retention rate as our main metrics, we have secondary metrics as follows :\n",
    "1. Activation Rate\n",
    "2. Churn Rate \n",
    "3. Revenue Per Customer\n",
    "\n",
    "We have Counter Metrics as follow : \n",
    "1. Customer Acuqisition Cost (CAC)\n",
    "2. Complaint \n",
    "\n",
    "\n",
    "\n"
   ]
  },
  {
   "cell_type": "markdown",
   "id": "ed9c2b17",
   "metadata": {
    "papermill": {
     "duration": 0.007213,
     "end_time": "2023-05-23T15:21:02.526052",
     "exception": false,
     "start_time": "2023-05-23T15:21:02.518839",
     "status": "completed"
    },
    "tags": []
   },
   "source": [
    "# "
   ]
  },
  {
   "cell_type": "code",
   "execution_count": 3,
   "id": "467bfbf1",
   "metadata": {
    "execution": {
     "iopub.execute_input": "2023-05-23T15:21:02.543505Z",
     "iopub.status.busy": "2023-05-23T15:21:02.542815Z",
     "iopub.status.idle": "2023-05-23T15:21:02.698015Z",
     "shell.execute_reply": "2023-05-23T15:21:02.696891Z"
    },
    "papermill": {
     "duration": 0.167015,
     "end_time": "2023-05-23T15:21:02.700647",
     "exception": false,
     "start_time": "2023-05-23T15:21:02.533632",
     "status": "completed"
    },
    "tags": []
   },
   "outputs": [],
   "source": [
    "#Data Preparation\n",
    "retention_change = {False: 0,\n",
    "                   True : 1}\n",
    "\n",
    "df.replace({\"retention_1\" :retention_change,\n",
    "            \"retention_7\" : retention_change},inplace = True)\n",
    "\n",
    "\n",
    "\n",
    "\n",
    "#We change this categorical variabel so that it's going to be easier for us to do analysis"
   ]
  },
  {
   "cell_type": "code",
   "execution_count": 4,
   "id": "19b6f2a8",
   "metadata": {
    "execution": {
     "iopub.execute_input": "2023-05-23T15:21:02.718295Z",
     "iopub.status.busy": "2023-05-23T15:21:02.717549Z",
     "iopub.status.idle": "2023-05-23T15:21:02.735034Z",
     "shell.execute_reply": "2023-05-23T15:21:02.734272Z"
    },
    "papermill": {
     "duration": 0.028618,
     "end_time": "2023-05-23T15:21:02.737098",
     "exception": false,
     "start_time": "2023-05-23T15:21:02.708480",
     "status": "completed"
    },
    "tags": []
   },
   "outputs": [
    {
     "data": {
      "text/html": [
       "<div>\n",
       "<style scoped>\n",
       "    .dataframe tbody tr th:only-of-type {\n",
       "        vertical-align: middle;\n",
       "    }\n",
       "\n",
       "    .dataframe tbody tr th {\n",
       "        vertical-align: top;\n",
       "    }\n",
       "\n",
       "    .dataframe thead th {\n",
       "        text-align: right;\n",
       "    }\n",
       "</style>\n",
       "<table border=\"1\" class=\"dataframe\">\n",
       "  <thead>\n",
       "    <tr style=\"text-align: right;\">\n",
       "      <th></th>\n",
       "      <th>userid</th>\n",
       "      <th>version</th>\n",
       "      <th>sum_gamerounds</th>\n",
       "      <th>retention_1</th>\n",
       "      <th>retention_7</th>\n",
       "    </tr>\n",
       "  </thead>\n",
       "  <tbody>\n",
       "    <tr>\n",
       "      <th>0</th>\n",
       "      <td>116</td>\n",
       "      <td>gate_30</td>\n",
       "      <td>3</td>\n",
       "      <td>0</td>\n",
       "      <td>0</td>\n",
       "    </tr>\n",
       "    <tr>\n",
       "      <th>1</th>\n",
       "      <td>337</td>\n",
       "      <td>gate_30</td>\n",
       "      <td>38</td>\n",
       "      <td>1</td>\n",
       "      <td>0</td>\n",
       "    </tr>\n",
       "    <tr>\n",
       "      <th>2</th>\n",
       "      <td>377</td>\n",
       "      <td>gate_40</td>\n",
       "      <td>165</td>\n",
       "      <td>1</td>\n",
       "      <td>0</td>\n",
       "    </tr>\n",
       "    <tr>\n",
       "      <th>3</th>\n",
       "      <td>483</td>\n",
       "      <td>gate_40</td>\n",
       "      <td>1</td>\n",
       "      <td>0</td>\n",
       "      <td>0</td>\n",
       "    </tr>\n",
       "    <tr>\n",
       "      <th>4</th>\n",
       "      <td>488</td>\n",
       "      <td>gate_40</td>\n",
       "      <td>179</td>\n",
       "      <td>1</td>\n",
       "      <td>1</td>\n",
       "    </tr>\n",
       "    <tr>\n",
       "      <th>...</th>\n",
       "      <td>...</td>\n",
       "      <td>...</td>\n",
       "      <td>...</td>\n",
       "      <td>...</td>\n",
       "      <td>...</td>\n",
       "    </tr>\n",
       "    <tr>\n",
       "      <th>90184</th>\n",
       "      <td>9999441</td>\n",
       "      <td>gate_40</td>\n",
       "      <td>97</td>\n",
       "      <td>1</td>\n",
       "      <td>0</td>\n",
       "    </tr>\n",
       "    <tr>\n",
       "      <th>90185</th>\n",
       "      <td>9999479</td>\n",
       "      <td>gate_40</td>\n",
       "      <td>30</td>\n",
       "      <td>0</td>\n",
       "      <td>0</td>\n",
       "    </tr>\n",
       "    <tr>\n",
       "      <th>90186</th>\n",
       "      <td>9999710</td>\n",
       "      <td>gate_30</td>\n",
       "      <td>28</td>\n",
       "      <td>1</td>\n",
       "      <td>0</td>\n",
       "    </tr>\n",
       "    <tr>\n",
       "      <th>90187</th>\n",
       "      <td>9999768</td>\n",
       "      <td>gate_40</td>\n",
       "      <td>51</td>\n",
       "      <td>1</td>\n",
       "      <td>0</td>\n",
       "    </tr>\n",
       "    <tr>\n",
       "      <th>90188</th>\n",
       "      <td>9999861</td>\n",
       "      <td>gate_40</td>\n",
       "      <td>16</td>\n",
       "      <td>0</td>\n",
       "      <td>0</td>\n",
       "    </tr>\n",
       "  </tbody>\n",
       "</table>\n",
       "<p>90189 rows × 5 columns</p>\n",
       "</div>"
      ],
      "text/plain": [
       "        userid  version  sum_gamerounds  retention_1  retention_7\n",
       "0          116  gate_30               3            0            0\n",
       "1          337  gate_30              38            1            0\n",
       "2          377  gate_40             165            1            0\n",
       "3          483  gate_40               1            0            0\n",
       "4          488  gate_40             179            1            1\n",
       "...        ...      ...             ...          ...          ...\n",
       "90184  9999441  gate_40              97            1            0\n",
       "90185  9999479  gate_40              30            0            0\n",
       "90186  9999710  gate_30              28            1            0\n",
       "90187  9999768  gate_40              51            1            0\n",
       "90188  9999861  gate_40              16            0            0\n",
       "\n",
       "[90189 rows x 5 columns]"
      ]
     },
     "execution_count": 4,
     "metadata": {},
     "output_type": "execute_result"
    }
   ],
   "source": [
    "df"
   ]
  },
  {
   "cell_type": "markdown",
   "id": "736e31dc",
   "metadata": {
    "papermill": {
     "duration": 0.007901,
     "end_time": "2023-05-23T15:21:02.753142",
     "exception": false,
     "start_time": "2023-05-23T15:21:02.745241",
     "status": "completed"
    },
    "tags": []
   },
   "source": [
    "## Exploratory Data Analysis"
   ]
  },
  {
   "cell_type": "code",
   "execution_count": 5,
   "id": "5259e77f",
   "metadata": {
    "execution": {
     "iopub.execute_input": "2023-05-23T15:21:02.771810Z",
     "iopub.status.busy": "2023-05-23T15:21:02.771385Z",
     "iopub.status.idle": "2023-05-23T15:21:02.776187Z",
     "shell.execute_reply": "2023-05-23T15:21:02.775136Z"
    },
    "papermill": {
     "duration": 0.017507,
     "end_time": "2023-05-23T15:21:02.778702",
     "exception": false,
     "start_time": "2023-05-23T15:21:02.761195",
     "status": "completed"
    },
    "tags": []
   },
   "outputs": [
    {
     "name": "stdout",
     "output_type": "stream",
     "text": [
      "The total of the data rows are : 90189\n"
     ]
    }
   ],
   "source": [
    "#The length of the data \n",
    "print( \"The total of the data rows are :\",len(df))"
   ]
  },
  {
   "cell_type": "code",
   "execution_count": 6,
   "id": "079dce58",
   "metadata": {
    "execution": {
     "iopub.execute_input": "2023-05-23T15:21:02.796815Z",
     "iopub.status.busy": "2023-05-23T15:21:02.796376Z",
     "iopub.status.idle": "2023-05-23T15:21:02.810327Z",
     "shell.execute_reply": "2023-05-23T15:21:02.809146Z"
    },
    "papermill": {
     "duration": 0.025711,
     "end_time": "2023-05-23T15:21:02.812574",
     "exception": false,
     "start_time": "2023-05-23T15:21:02.786863",
     "status": "completed"
    },
    "tags": []
   },
   "outputs": [
    {
     "name": "stdout",
     "output_type": "stream",
     "text": [
      "The total user_id are : 90189\n"
     ]
    }
   ],
   "source": [
    "#How many user_id are there \n",
    "print(\"The total user_id are :\",df[\"userid\"].nunique() )\n"
   ]
  },
  {
   "cell_type": "code",
   "execution_count": 7,
   "id": "ec798549",
   "metadata": {
    "execution": {
     "iopub.execute_input": "2023-05-23T15:21:02.831461Z",
     "iopub.status.busy": "2023-05-23T15:21:02.830735Z",
     "iopub.status.idle": "2023-05-23T15:21:02.848427Z",
     "shell.execute_reply": "2023-05-23T15:21:02.847563Z"
    },
    "papermill": {
     "duration": 0.029931,
     "end_time": "2023-05-23T15:21:02.850900",
     "exception": false,
     "start_time": "2023-05-23T15:21:02.820969",
     "status": "completed"
    },
    "tags": []
   },
   "outputs": [],
   "source": [
    "#Is there anyone with zero sum_game?\n",
    "\n",
    "df[df[\"sum_gamerounds\"]==0]\n",
    "#yes they are, we need to remove this because our main objective is retention, while this user_id is not playing\n",
    "\n",
    "df =df[df[\"sum_gamerounds\"]!= 0 ]\n"
   ]
  },
  {
   "cell_type": "code",
   "execution_count": 8,
   "id": "f38d0bfd",
   "metadata": {
    "execution": {
     "iopub.execute_input": "2023-05-23T15:21:02.869671Z",
     "iopub.status.busy": "2023-05-23T15:21:02.868986Z",
     "iopub.status.idle": "2023-05-23T15:21:02.890854Z",
     "shell.execute_reply": "2023-05-23T15:21:02.889566Z"
    },
    "papermill": {
     "duration": 0.03416,
     "end_time": "2023-05-23T15:21:02.893333",
     "exception": false,
     "start_time": "2023-05-23T15:21:02.859173",
     "status": "completed"
    },
    "tags": []
   },
   "outputs": [
    {
     "data": {
      "text/plain": [
       "gate_40    50.39\n",
       "gate_30    49.61\n",
       "Name: version, dtype: float64"
      ]
     },
     "execution_count": 8,
     "metadata": {},
     "output_type": "execute_result"
    }
   ],
   "source": [
    "#Proportion for Control And Treatment ()\n",
    "\n",
    "round ((df[\"version\"].value_counts() /len(df)) * 100 ,2)\n",
    "\n",
    "#we see that the proportion is equal (even though not identical) "
   ]
  },
  {
   "cell_type": "code",
   "execution_count": 9,
   "id": "06a66ffc",
   "metadata": {
    "execution": {
     "iopub.execute_input": "2023-05-23T15:21:02.911823Z",
     "iopub.status.busy": "2023-05-23T15:21:02.911409Z",
     "iopub.status.idle": "2023-05-23T15:21:02.946348Z",
     "shell.execute_reply": "2023-05-23T15:21:02.945250Z"
    },
    "papermill": {
     "duration": 0.047179,
     "end_time": "2023-05-23T15:21:02.948961",
     "exception": false,
     "start_time": "2023-05-23T15:21:02.901782",
     "status": "completed"
    },
    "tags": []
   },
   "outputs": [
    {
     "data": {
      "text/plain": [
       "version\n",
       "gate_30    50.12\n",
       "gate_40    49.88\n",
       "Name: sum_gamerounds, dtype: float64"
      ]
     },
     "execution_count": 9,
     "metadata": {},
     "output_type": "execute_result"
    }
   ],
   "source": [
    "#sum_gamerounds for Control vs Treatment\n",
    "\n",
    "round(df.groupby(\"version\")[\"sum_gamerounds\"].sum() / sum(df[\"sum_gamerounds\"]) * 100,2)"
   ]
  },
  {
   "cell_type": "code",
   "execution_count": 10,
   "id": "eb6f713a",
   "metadata": {
    "execution": {
     "iopub.execute_input": "2023-05-23T15:21:02.968395Z",
     "iopub.status.busy": "2023-05-23T15:21:02.967665Z",
     "iopub.status.idle": "2023-05-23T15:21:03.016265Z",
     "shell.execute_reply": "2023-05-23T15:21:03.015186Z"
    },
    "papermill": {
     "duration": 0.061349,
     "end_time": "2023-05-23T15:21:03.018984",
     "exception": false,
     "start_time": "2023-05-23T15:21:02.957635",
     "status": "completed"
    },
    "tags": []
   },
   "outputs": [
    {
     "name": "stdout",
     "output_type": "stream",
     "text": [
      "The average retention_1 for our control is : 46.75%\n",
      "The average retention_7 for our control is : 19.84%\n"
     ]
    }
   ],
   "source": [
    "#What is the average retention for control data ?\n",
    "print (\"The average retention_1 for our control is :\",round(df[df[\"version\"] == \"gate_30\"][\"retention_1\"].mean() * 100,2).astype('str')+\"%\")\n",
    "print (\"The average retention_7 for our control is :\",round(df[df[\"version\"] == \"gate_30\"][\"retention_7\"].mean() * 100,2).astype('str')+\"%\")"
   ]
  },
  {
   "cell_type": "code",
   "execution_count": 11,
   "id": "9b54b2a2",
   "metadata": {
    "execution": {
     "iopub.execute_input": "2023-05-23T15:21:03.039058Z",
     "iopub.status.busy": "2023-05-23T15:21:03.038052Z",
     "iopub.status.idle": "2023-05-23T15:21:03.085144Z",
     "shell.execute_reply": "2023-05-23T15:21:03.083540Z"
    },
    "papermill": {
     "duration": 0.059756,
     "end_time": "2023-05-23T15:21:03.087672",
     "exception": false,
     "start_time": "2023-05-23T15:21:03.027916",
     "status": "completed"
    },
    "tags": []
   },
   "outputs": [
    {
     "name": "stdout",
     "output_type": "stream",
     "text": [
      "The average retention_1 for our treatment is : 46.22%\n",
      "The average retention_7 for our treatment is : 19.03%\n"
     ]
    }
   ],
   "source": [
    "#What is the average retention for Treatment data ?\n",
    "print (\"The average retention_1 for our treatment is :\",round(df[df[\"version\"] == \"gate_40\"][\"retention_1\"].mean() * 100,2).astype('str')+\"%\")\n",
    "print (\"The average retention_7 for our treatment is :\",round(df[df[\"version\"] == \"gate_40\"][\"retention_7\"].mean() * 100,2).astype('str')+\"%\")"
   ]
  },
  {
   "cell_type": "markdown",
   "id": "6d6f940e",
   "metadata": {
    "papermill": {
     "duration": 0.008818,
     "end_time": "2023-05-23T15:21:03.105679",
     "exception": false,
     "start_time": "2023-05-23T15:21:03.096861",
     "status": "completed"
    },
    "tags": []
   },
   "source": [
    "We see that the average between control and treatment have a very small difference, and it's easy to assume if there is no statistical difference. But it might be because it comes from 1 sample. We will use bootstrap and combine it with t-test to see if there is any signifiance difference in the future."
   ]
  },
  {
   "cell_type": "markdown",
   "id": "53324e33",
   "metadata": {
    "papermill": {
     "duration": 0.008728,
     "end_time": "2023-05-23T15:21:03.123742",
     "exception": false,
     "start_time": "2023-05-23T15:21:03.115014",
     "status": "completed"
    },
    "tags": []
   },
   "source": [
    "# Hypothesis Testing"
   ]
  },
  {
   "cell_type": "code",
   "execution_count": 12,
   "id": "99f83e7a",
   "metadata": {
    "execution": {
     "iopub.execute_input": "2023-05-23T15:21:03.143235Z",
     "iopub.status.busy": "2023-05-23T15:21:03.142835Z",
     "iopub.status.idle": "2023-05-23T15:21:13.487045Z",
     "shell.execute_reply": "2023-05-23T15:21:13.485933Z"
    },
    "papermill": {
     "duration": 10.356998,
     "end_time": "2023-05-23T15:21:13.489805",
     "exception": false,
     "start_time": "2023-05-23T15:21:03.132807",
     "status": "completed"
    },
    "tags": []
   },
   "outputs": [],
   "source": [
    "bootstrap_size = 300\n",
    "\n",
    "retention_1_list = []\n",
    "retention_7_list = []\n",
    "\n",
    "\n",
    "for i in range (bootstrap_size):\n",
    "    retention_1 = df.sample(frac=1, replace=True).groupby(\"version\")['retention_1'].mean()\n",
    "    retention_1_list.append(retention_1)\n",
    "    retention_7 = df.sample(frac = 1, replace = True).groupby(\"version\")[\"retention_7\"].mean()\n",
    "    retention_7_list.append(retention_7)"
   ]
  },
  {
   "cell_type": "code",
   "execution_count": 13,
   "id": "e441ae62",
   "metadata": {
    "execution": {
     "iopub.execute_input": "2023-05-23T15:21:13.509638Z",
     "iopub.status.busy": "2023-05-23T15:21:13.509211Z",
     "iopub.status.idle": "2023-05-23T15:21:15.192409Z",
     "shell.execute_reply": "2023-05-23T15:21:15.191230Z"
    },
    "papermill": {
     "duration": 1.696147,
     "end_time": "2023-05-23T15:21:15.194903",
     "exception": false,
     "start_time": "2023-05-23T15:21:13.498756",
     "status": "completed"
    },
    "tags": []
   },
   "outputs": [
    {
     "name": "stderr",
     "output_type": "stream",
     "text": [
      "/opt/conda/lib/python3.10/site-packages/scipy/__init__.py:146: UserWarning: A NumPy version >=1.16.5 and <1.23.0 is required for this version of SciPy (detected version 1.23.5\n",
      "  warnings.warn(f\"A NumPy version >={np_minversion} and <{np_maxversion}\"\n"
     ]
    },
    {
     "data": {
      "image/png": "[encoded data removed]",
      "text/plain": [
       "<Figure size 1300x500 with 2 Axes>"
      ]
     },
     "metadata": {},
     "output_type": "display_data"
    }
   ],
   "source": [
    "#make into dataframe \n",
    "bootstrap_retention_1 = pd.DataFrame (retention_1_list)\n",
    "bootstrap_retention_7 = pd.DataFrame(retention_7_list)\n",
    "\n",
    "fig, (ax1,ax2) = plt.subplots(1,2, sharey = True ,figsize = (13,5))\n",
    "bootstrap_retention_1.plot.kde(ax = ax1)\n",
    "ax1.set_title(\"1-day retention\")\n",
    "ax1.set_xlabel(\"Mean\")\n",
    "bootstrap_retention_7.plot.kde(ax = ax2 )\n",
    "ax2.set_title(\"7-day retention\")\n",
    "ax2.set_xlabel(\"Mean\")\n",
    "plt.show()\n"
   ]
  },
  {
   "cell_type": "code",
   "execution_count": 14,
   "id": "dc51d6f6",
   "metadata": {
    "execution": {
     "iopub.execute_input": "2023-05-23T15:21:15.216684Z",
     "iopub.status.busy": "2023-05-23T15:21:15.216281Z",
     "iopub.status.idle": "2023-05-23T15:21:15.225552Z",
     "shell.execute_reply": "2023-05-23T15:21:15.224357Z"
    },
    "papermill": {
     "duration": 0.023443,
     "end_time": "2023-05-23T15:21:15.228474",
     "exception": false,
     "start_time": "2023-05-23T15:21:15.205031",
     "status": "completed"
    },
    "tags": []
   },
   "outputs": [
    {
     "name": "stdout",
     "output_type": "stream",
     "text": [
      "T-Statistic: 26.35873445223891\n",
      "P-Value: 1.714340618345465e-102\n"
     ]
    }
   ],
   "source": [
    "import scipy.stats as stats\n",
    "bootstrap_retention_1\n",
    "\n",
    "t_statistic, p_value = stats.ttest_ind(bootstrap_retention_1[\"gate_30\"], bootstrap_retention_1[\"gate_40\"],alternative = \"greater\")\n",
    "# Print the results\n",
    "print(\"T-Statistic:\", t_statistic)\n",
    "print(\"P-Value:\", p_value)"
   ]
  },
  {
   "cell_type": "code",
   "execution_count": 15,
   "id": "74bd8149",
   "metadata": {
    "execution": {
     "iopub.execute_input": "2023-05-23T15:21:15.250846Z",
     "iopub.status.busy": "2023-05-23T15:21:15.250414Z",
     "iopub.status.idle": "2023-05-23T15:21:15.258206Z",
     "shell.execute_reply": "2023-05-23T15:21:15.256658Z"
    },
    "papermill": {
     "duration": 0.02194,
     "end_time": "2023-05-23T15:21:15.260602",
     "exception": false,
     "start_time": "2023-05-23T15:21:15.238662",
     "status": "completed"
    },
    "tags": []
   },
   "outputs": [
    {
     "name": "stdout",
     "output_type": "stream",
     "text": [
      "T-Statistic: 51.29272308647506\n",
      "P-Value: 1.9110457017776168e-221\n"
     ]
    }
   ],
   "source": [
    "t_statistic, p_value = stats.ttest_ind(bootstrap_retention_7[\"gate_30\"], bootstrap_retention_7[\"gate_40\"],alternative = \"greater\")\n",
    "# Print the results\n",
    "print(\"T-Statistic:\", t_statistic)\n",
    "print(\"P-Value:\", p_value)"
   ]
  },
  {
   "cell_type": "markdown",
   "id": "b36f7a7a",
   "metadata": {
    "papermill": {
     "duration": 0.009553,
     "end_time": "2023-05-23T15:21:15.280202",
     "exception": false,
     "start_time": "2023-05-23T15:21:15.270649",
     "status": "completed"
    },
    "tags": []
   },
   "source": [
    "### Retention_1 : \n",
    "H0 : mean_control >= mean_treatment \n",
    "\n",
    "H1 : mean_control < mean_treatment \n",
    "\n",
    "p_value = 0.05 ; \n",
    "\n",
    "we see that our data p-value as follow : (8.6e-128) < 0.05.\n",
    "Hence, since it's smaller than p-value, we reject H0. We can conclude if there is a **signifiance mean difference between the group**.\n",
    "However, by seeing the graph above, we can see that the **mean difference is getting worst**. So, we will **stay using the gate_30 (control)**\n",
    "\n",
    "\n",
    "\n",
    "\n",
    "\n",
    "\n",
    "### Retention_7 : \n",
    "H0 : mean_control >= mean_treatment \n",
    "\n",
    "H1 : mean_control < mean_treatment\n",
    "\n",
    "p_value = 0.05 \n",
    "\n",
    "we see that our data p-value as follow : (1.3e-227) < 0.05.\n",
    "Hence, since it's smaller than p-value, we reject H0. We can conclude if there is a **signifiance mean difference between the group**.\n",
    "However, by seeing the graph above, we can see that the **mean difference is getting worst**. So, we will **stay using the gate_30 (control)**\n",
    "\n",
    "\n"
   ]
  },
  {
   "cell_type": "code",
   "execution_count": null,
   "id": "403b6cb8",
   "metadata": {
    "papermill": {
     "duration": 0.009702,
     "end_time": "2023-05-23T15:21:15.299859",
     "exception": false,
     "start_time": "2023-05-23T15:21:15.290157",
     "status": "completed"
    },
    "tags": []
   },
   "outputs": [],
   "source": []
  },
  {
   "cell_type": "code",
   "execution_count": null,
   "id": "134efba3",
   "metadata": {
    "papermill": {
     "duration": 0.009617,
     "end_time": "2023-05-23T15:21:15.319301",
     "exception": false,
     "start_time": "2023-05-23T15:21:15.309684",
     "status": "completed"
    },
    "tags": []
   },
   "outputs": [],
   "source": []
  },
  {
   "cell_type": "code",
   "execution_count": null,
   "id": "d21cfb7a",
   "metadata": {
    "papermill": {
     "duration": 0.009634,
     "end_time": "2023-05-23T15:21:15.338808",
     "exception": false,
     "start_time": "2023-05-23T15:21:15.329174",
     "status": "completed"
    },
    "tags": []
   },
   "outputs": [],
   "source": []
  }
 ],
 "metadata": {
  "kernelspec": {
   "display_name": "Python 3",
   "language": "python",
   "name": "python3"
  },
  "language_info": {
   "codemirror_mode": {
    "name": "ipython",
    "version": 3
   },
   "file_extension": ".py",
   "mimetype": "text/x-python",
   "name": "python",
   "nbconvert_exporter": "python",
   "pygments_lexer": "ipython3",
   "version": "3.10.10"
  },
  "papermill": {
   "default_parameters": {},
   "duration": 26.378901,
   "end_time": "2023-05-23T15:21:16.271848",
   "environment_variables": {},
   "exception": null,
   "input_path": "__notebook__.ipynb",
   "output_path": "__notebook__.ipynb",
   "parameters": {},
   "start_time": "2023-05-23T15:20:49.892947",
   "version": "2.4.0"
  }
 },
 "nbformat": 4,
 "nbformat_minor": 5
}
